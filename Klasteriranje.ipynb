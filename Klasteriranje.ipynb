{
 "cells": [
  {
   "cell_type": "markdown",
   "metadata": {},
   "source": [
    "# Klasteriranje"
   ]
  },
  {
   "cell_type": "markdown",
   "metadata": {},
   "source": [
    "Usporedno s razvojem digitalizacije podaci se počinju prikupljati velikom brzinom, pa je obrada skupljenih podataka postala znatno teža. Kako bi se uočila slična svojstva među podacima i otkrile neke nove karakteristike, prirodno se pojavila potreba za grupiranjem podataka. Danas je jedna je od najčešćih tehnika analize podataka. Svoje primjene nalazi u raznim područjima znanosti kao što su strojno učenje, statistika, fizika, biologija, itd. \n",
    "<br><br>\n",
    "Osnovni cilj klasteriranja je grupiranje podataka prema zadanom kriteriju uz postizanje velike sličnosti između podataka unutar iste grupe, a male sličnosti između podataka koji pripadaju različitim grupama. "
   ]
  },
  {
   "cell_type": "markdown",
   "metadata": {},
   "source": [
    "1. [Klasteriranje kao optimizacijski problem](#uvod)   "
   ]
  },
  {
   "cell_type": "markdown",
   "metadata": {},
   "source": [
    "## 1. Klasteriranje kao optimizacijski problem <a name=\"uvod\"></a>"
   ]
  },
  {
   "cell_type": "markdown",
   "metadata": {},
   "source": [
    "Glavni problem klasterske analize je za dani skup podataka $\\boldsymbol{U}$ odrediti podskupove $C$ koji su homogeni i/ili dobro separirani u odnosu na mjerene varijable. Takve podskupove $C$ nazivamo klasteri, a skup svih klastera $\\boldsymbol{C} = \\{ C_1, C_2, ..., C_k \\}$ klastering.\n",
    "<br><br>\n",
    "Navedeni problem može se formulirati kao sljedeći optimizacijski problem. \n",
    "\n",
    "Odrediti klastering $\\boldsymbol{C}$ za koji vrijedi $$ P(\\boldsymbol{C^*}) = \\min_{\\boldsymbol{C}\\in\\phi}P(\\boldsymbol{C}) $$\n",
    "\n",
    "gdje je $C$ klastering za dani skup podataka $\\boldsymbol{U}$, $\\phi$ skup svih mogučih klasteringa i \n",
    "$P: \\phi\\rightarrow \\mathbb{R}$ funkcija kriterija.\n",
    "\n",
    "Ako je skup klastering konačan, rješenje problema uvijek postoji. Međutim, budući da je taj skup obično vrlo velik nije jednostavno naći optimalno rješenje."
   ]
  },
  {
   "cell_type": "markdown",
   "metadata": {},
   "source": [
    "Klastering $\\boldsymbol{C} = \\{ C_1, C_2,..., C_k \\}$ je particija skupa $\\boldsymbol{U}$ ako $$\\bigcup\\limits_i C_i = \\boldsymbol{U}$$ \n",
    "$$ i\\ne j \\implies C_i \\cap C_j = \\emptyset $$\n",
    "\n",
    "Klastering $\\boldsymbol{H} = \\{ C_1, C_2,..., C_k \\}$ je hijerarhija ako za svaki par klastera $C_i$ i $C_j$ iz $\\boldsymbol{H}$ vrijedi $$ C_i \\cap C_j \\in \\{C_i, C_j, \\emptyset \\} $$\n"
   ]
  }
 ],
 "metadata": {
  "kernelspec": {
   "display_name": "Python 3",
   "language": "python",
   "name": "python3"
  },
  "language_info": {
   "codemirror_mode": {
    "name": "ipython",
    "version": 3
   },
   "file_extension": ".py",
   "mimetype": "text/x-python",
   "name": "python",
   "nbconvert_exporter": "python",
   "pygments_lexer": "ipython3",
   "version": "3.6.5"
  }
 },
 "nbformat": 4,
 "nbformat_minor": 2
}
