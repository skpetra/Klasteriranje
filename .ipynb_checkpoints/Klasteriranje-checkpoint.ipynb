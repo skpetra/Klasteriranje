{
 "cells": [
  {
   "cell_type": "markdown",
   "metadata": {},
   "source": [
    "# Klasteriranje"
   ]
  },
  {
   "cell_type": "markdown",
   "metadata": {},
   "source": [
    "Usporedno s razvojem digitalizacije podaci se počinju prikupljati velikom brzinom, pa je obrada skupljenih podataka postala znatno teža. Kako bi se uočila slična svojstva među podacima i otkrile neke nove karakteristike, prirodno se pojavila potreba za grupiranjem podataka. Danas je jedna je od najčešćih tehnika analize podataka. Svoje primjene nalazi u raznim područjima znanosti kao što su strojno učenje, statistika, fizika, biologija, itd. \n",
    "<br><br>\n",
    "Osnovni cilj klasteriranja je grupiranje podataka prema zadanom kriteriju uz postizanje velike sličnosti između podataka unutar iste grupe, a male sličnosti između podataka koji pripadaju različitim grupama. "
   ]
  },
  {
   "cell_type": "markdown",
   "metadata": {},
   "source": [
    "1. [Klasteriranje kao optimizacijski problem](#uvod)  \n",
    "2. [Klasterska analiza](#analiza)\n",
    "    2.1. [Priprema podataka](#priprema)\n",
    "        2.2.1 [Normalizacija podataka](#normalizacija)\n",
    "        2.2.2 [Skaliranje podataka](#skaliranje)\n",
    "    2.3 [Algoritmi klasteriranja](#algoritmi)"
   ]
  },
  {
   "cell_type": "code",
   "execution_count": 3,
   "metadata": {},
   "outputs": [],
   "source": [
    "import matplotlib.pyplot as plt\n",
    "import pandas as pd\n",
    "import numpy as np\n",
    "#import math\n",
    "\n",
    "import seaborn as sns\n",
    "#data visualization library based on matplotlib. It provides a high-level interface for drawing attractive and informative statistical graphics."
   ]
  },
  {
   "cell_type": "markdown",
   "metadata": {},
   "source": [
    "## 1. Klasteriranje kao optimizacijski problem <a name=\"uvod\"></a>"
   ]
  },
  {
   "cell_type": "markdown",
   "metadata": {},
   "source": [
    "Glavni problem klasterske analize je za dani skup podataka $\\boldsymbol{U}$ odrediti podskupove $C$ koji su homogeni i/ili dobro separirani u odnosu na mjerene varijable. Takve podskupove $C$ nazivamo klasteri, a skup svih klastera $\\boldsymbol{C} = \\{ C_1, C_2, ..., C_k \\}$ klastering.\n",
    "<br><br>\n",
    "Navedeni problem može se formulirati kao sljedeći optimizacijski problem. \n",
    "\n",
    "Odrediti klastering $\\boldsymbol{C}$ za koji vrijedi $$ P(\\boldsymbol{C^*}) = \\min_{\\boldsymbol{C}\\in\\phi}P(\\boldsymbol{C}) $$\n",
    "\n",
    "gdje je $C$ klastering za dani skup podataka $\\boldsymbol{U}$, $\\phi$ skup svih mogučih klasteringa i \n",
    "$P: \\phi\\rightarrow \\mathbb{R}$ funkcija kriterija.\n",
    "\n",
    "Ako je skup klastering konačan, rješenje problema uvijek postoji. Međutim, budući da je taj skup obično vrlo velik nije jednostavno naći optimalno rješenje."
   ]
  },
  {
   "cell_type": "code",
   "execution_count": null,
   "metadata": {},
   "outputs": [],
   "source": []
  },
  {
   "cell_type": "markdown",
   "metadata": {},
   "source": [
    "Klastering $\\boldsymbol{C} = \\{ C_1, C_2,..., C_k \\}$ je particija skupa $\\boldsymbol{U}$ ako $$\\bigcup\\limits_i C_i = \\boldsymbol{U}$$ \n",
    "$$ i\\ne j \\implies C_i \\cap C_j = \\emptyset $$\n",
    "\n",
    "Klastering $\\boldsymbol{H} = \\{ C_1, C_2,..., C_k \\}$ je hijerarhija ako za svaki par klastera $C_i$ i $C_j$ iz $\\boldsymbol{H}$ vrijedi \n",
    "\n",
    "$$ C_i \\cap C_j \\in \\{C_i, C_j, \\emptyset \\} $$\n",
    "\n",
    "i potpuna hijerarhija ako za svaki podatak x vrijedi $\\{x\\}\\in\\boldsymbol{H}$ i $\\boldsymbol{U}\\in\\boldsymbol{H}$.\n"
   ]
  },
  {
   "cell_type": "markdown",
   "metadata": {},
   "source": [
    "## 2. Klasterska analiza <a name=\"analiza\"></a>"
   ]
  },
  {
   "cell_type": "markdown",
   "metadata": {},
   "source": [
    "Koraci u rješavanju problema klasteriranja su: \n",
    "1. Priprema podataka. \n",
    "2. Odabir prikladne mjere sličnosti među podacima za zadani problem.\n",
    "3. Odabir tipa i algoritma klasteriranja.\n",
    "4. Interpretacija rezultata."
   ]
  },
  {
   "cell_type": "markdown",
   "metadata": {},
   "source": [
    "### 2.1 Priprema podataka <a name=\"priprema\"></a>"
   ]
  },
  {
   "cell_type": "markdown",
   "metadata": {},
   "source": [
    "Kako se grupiranje bazira na izračunavanju udaljenosti među mjerenjima, podaci moraju biti\n",
    "u numeričkom obliku. Zato je potrebno sve nenumeričke podatke prikazati numerički.\n",
    "Također, budući da se može dogoditi da su mjere podataka u različitim skalama potrebno ih je skalirati ili normirati."
   ]
  },
  {
   "cell_type": "markdown",
   "metadata": {},
   "source": [
    "U ovoj bilježnici promatrati ću podatke iz World happines baze podataka za 2018. godinu."
   ]
  },
  {
   "cell_type": "code",
   "execution_count": 6,
   "metadata": {},
   "outputs": [
    {
     "name": "stdout",
     "output_type": "stream",
     "text": [
      "<class 'pandas.core.frame.DataFrame'>\n",
      "Index: 156 entries, Finland to Burundi\n",
      "Data columns (total 7 columns):\n",
      " #   Column                        Non-Null Count  Dtype  \n",
      "---  ------                        --------------  -----  \n",
      " 0   Score                         156 non-null    int64  \n",
      " 1   GDP per capita                156 non-null    int64  \n",
      " 2   Social support                156 non-null    int64  \n",
      " 3   Healthy life expectancy       156 non-null    int64  \n",
      " 4   Freedom to make life choices  156 non-null    int64  \n",
      " 5   Generosity                    156 non-null    int64  \n",
      " 6   Perceptions of corruption     155 non-null    float64\n",
      "dtypes: float64(1), int64(6)\n",
      "memory usage: 9.8+ KB\n"
     ]
    }
   ],
   "source": [
    "data = pd.read_csv(\"https://raw.githubusercontent.com/skpetra/ms/master/2018.csv\") \n",
    "del data['Overall rank']\n",
    "data.set_index('Country or region', inplace=True)\n",
    "data.info()"
   ]
  },
  {
   "cell_type": "markdown",
   "metadata": {},
   "source": [
    "Prvo promotrimo kakva je veza među podacima u bazi preko toplinske karte (_eng._ heat map)."
   ]
  },
  {
   "cell_type": "code",
   "execution_count": 292,
   "metadata": {},
   "outputs": [
    {
     "data": {
      "text/plain": [
       "<matplotlib.axes._subplots.AxesSubplot at 0x7fefb4538a90>"
      ]
     },
     "execution_count": 292,
     "metadata": {},
     "output_type": "execute_result"
    },
    {
     "data": {
      "image/png": "[encoded data removed]",
      "text/plain": [
       "<Figure size 720x576 with 2 Axes>"
      ]
     },
     "metadata": {
      "needs_background": "light"
     },
     "output_type": "display_data"
    }
   ],
   "source": [
    "varijable = data[data.columns]\n",
    "podaci = varijable.corr() \n",
    "plt.subplots(figsize=(10,8))\n",
    "sns.heatmap(podaci)"
   ]
  },
  {
   "cell_type": "code",
   "execution_count": 297,
   "metadata": {},
   "outputs": [
    {
     "data": {
      "text/html": [
       "<div>\n",
       "<style scoped>\n",
       "    .dataframe tbody tr th:only-of-type {\n",
       "        vertical-align: middle;\n",
       "    }\n",
       "\n",
       "    .dataframe tbody tr th {\n",
       "        vertical-align: top;\n",
       "    }\n",
       "\n",
       "    .dataframe thead th {\n",
       "        text-align: right;\n",
       "    }\n",
       "</style>\n",
       "<table border=\"1\" class=\"dataframe\">\n",
       "  <thead>\n",
       "    <tr style=\"text-align: right;\">\n",
       "      <th></th>\n",
       "      <th>Score</th>\n",
       "      <th>GDP per capita</th>\n",
       "      <th>Social support</th>\n",
       "      <th>Healthy life expectancy</th>\n",
       "      <th>Freedom to make life choices</th>\n",
       "      <th>Generosity</th>\n",
       "      <th>Perceptions of corruption</th>\n",
       "    </tr>\n",
       "    <tr>\n",
       "      <th>Country or region</th>\n",
       "      <th></th>\n",
       "      <th></th>\n",
       "      <th></th>\n",
       "      <th></th>\n",
       "      <th></th>\n",
       "      <th></th>\n",
       "      <th></th>\n",
       "    </tr>\n",
       "  </thead>\n",
       "  <tbody>\n",
       "    <tr>\n",
       "      <th>Finland</th>\n",
       "      <td>7632</td>\n",
       "      <td>1305</td>\n",
       "      <td>1592</td>\n",
       "      <td>874</td>\n",
       "      <td>681</td>\n",
       "      <td>202</td>\n",
       "      <td>393.0</td>\n",
       "    </tr>\n",
       "    <tr>\n",
       "      <th>Norway</th>\n",
       "      <td>7594</td>\n",
       "      <td>1456</td>\n",
       "      <td>1582</td>\n",
       "      <td>861</td>\n",
       "      <td>686</td>\n",
       "      <td>286</td>\n",
       "      <td>340.0</td>\n",
       "    </tr>\n",
       "    <tr>\n",
       "      <th>Denmark</th>\n",
       "      <td>7555</td>\n",
       "      <td>1351</td>\n",
       "      <td>1590</td>\n",
       "      <td>868</td>\n",
       "      <td>683</td>\n",
       "      <td>284</td>\n",
       "      <td>408.0</td>\n",
       "    </tr>\n",
       "    <tr>\n",
       "      <th>Iceland</th>\n",
       "      <td>7495</td>\n",
       "      <td>1343</td>\n",
       "      <td>1644</td>\n",
       "      <td>914</td>\n",
       "      <td>677</td>\n",
       "      <td>353</td>\n",
       "      <td>138.0</td>\n",
       "    </tr>\n",
       "    <tr>\n",
       "      <th>Switzerland</th>\n",
       "      <td>7487</td>\n",
       "      <td>1420</td>\n",
       "      <td>1549</td>\n",
       "      <td>927</td>\n",
       "      <td>660</td>\n",
       "      <td>256</td>\n",
       "      <td>357.0</td>\n",
       "    </tr>\n",
       "    <tr>\n",
       "      <th>...</th>\n",
       "      <td>...</td>\n",
       "      <td>...</td>\n",
       "      <td>...</td>\n",
       "      <td>...</td>\n",
       "      <td>...</td>\n",
       "      <td>...</td>\n",
       "      <td>...</td>\n",
       "    </tr>\n",
       "    <tr>\n",
       "      <th>Yemen</th>\n",
       "      <td>3355</td>\n",
       "      <td>442</td>\n",
       "      <td>1073</td>\n",
       "      <td>343</td>\n",
       "      <td>244</td>\n",
       "      <td>83</td>\n",
       "      <td>64.0</td>\n",
       "    </tr>\n",
       "    <tr>\n",
       "      <th>Tanzania</th>\n",
       "      <td>3303</td>\n",
       "      <td>455</td>\n",
       "      <td>991</td>\n",
       "      <td>381</td>\n",
       "      <td>481</td>\n",
       "      <td>270</td>\n",
       "      <td>97.0</td>\n",
       "    </tr>\n",
       "    <tr>\n",
       "      <th>South Sudan</th>\n",
       "      <td>3254</td>\n",
       "      <td>337</td>\n",
       "      <td>608</td>\n",
       "      <td>177</td>\n",
       "      <td>112</td>\n",
       "      <td>224</td>\n",
       "      <td>106.0</td>\n",
       "    </tr>\n",
       "    <tr>\n",
       "      <th>Central African Republic</th>\n",
       "      <td>3083</td>\n",
       "      <td>24</td>\n",
       "      <td>0</td>\n",
       "      <td>10</td>\n",
       "      <td>305</td>\n",
       "      <td>218</td>\n",
       "      <td>38.0</td>\n",
       "    </tr>\n",
       "    <tr>\n",
       "      <th>Burundi</th>\n",
       "      <td>2905</td>\n",
       "      <td>91</td>\n",
       "      <td>627</td>\n",
       "      <td>145</td>\n",
       "      <td>65</td>\n",
       "      <td>149</td>\n",
       "      <td>76.0</td>\n",
       "    </tr>\n",
       "  </tbody>\n",
       "</table>\n",
       "<p>156 rows × 7 columns</p>\n",
       "</div>"
      ],
      "text/plain": [
       "                          Score  GDP per capita  Social support  \\\n",
       "Country or region                                                 \n",
       "Finland                    7632            1305            1592   \n",
       "Norway                     7594            1456            1582   \n",
       "Denmark                    7555            1351            1590   \n",
       "Iceland                    7495            1343            1644   \n",
       "Switzerland                7487            1420            1549   \n",
       "...                         ...             ...             ...   \n",
       "Yemen                      3355             442            1073   \n",
       "Tanzania                   3303             455             991   \n",
       "South Sudan                3254             337             608   \n",
       "Central African Republic   3083              24               0   \n",
       "Burundi                    2905              91             627   \n",
       "\n",
       "                          Healthy life expectancy  \\\n",
       "Country or region                                   \n",
       "Finland                                       874   \n",
       "Norway                                        861   \n",
       "Denmark                                       868   \n",
       "Iceland                                       914   \n",
       "Switzerland                                   927   \n",
       "...                                           ...   \n",
       "Yemen                                         343   \n",
       "Tanzania                                      381   \n",
       "South Sudan                                   177   \n",
       "Central African Republic                       10   \n",
       "Burundi                                       145   \n",
       "\n",
       "                          Freedom to make life choices  Generosity  \\\n",
       "Country or region                                                    \n",
       "Finland                                            681         202   \n",
       "Norway                                             686         286   \n",
       "Denmark                                            683         284   \n",
       "Iceland                                            677         353   \n",
       "Switzerland                                        660         256   \n",
       "...                                                ...         ...   \n",
       "Yemen                                              244          83   \n",
       "Tanzania                                           481         270   \n",
       "South Sudan                                        112         224   \n",
       "Central African Republic                           305         218   \n",
       "Burundi                                             65         149   \n",
       "\n",
       "                          Perceptions of corruption  \n",
       "Country or region                                    \n",
       "Finland                                       393.0  \n",
       "Norway                                        340.0  \n",
       "Denmark                                       408.0  \n",
       "Iceland                                       138.0  \n",
       "Switzerland                                   357.0  \n",
       "...                                             ...  \n",
       "Yemen                                          64.0  \n",
       "Tanzania                                       97.0  \n",
       "South Sudan                                   106.0  \n",
       "Central African Republic                       38.0  \n",
       "Burundi                                        76.0  \n",
       "\n",
       "[156 rows x 7 columns]"
      ]
     },
     "execution_count": 297,
     "metadata": {},
     "output_type": "execute_result"
    }
   ],
   "source": [
    "data"
   ]
  },
  {
   "cell_type": "markdown",
   "metadata": {},
   "source": [
    "Vidimo da su u promatranoj bazi svi podaci o državama numerički. Međutim, već iz ovog ispisa vidimo da podaci nisu **normirani** ili normalizirani????. Zato je potrebno sve podatke dovesti u jednaki raspon (skaliranje) ili ih normalizirati. Skaliranjem podacima mijenjamo samo raspon, dok normaliziacijom radikalnije transformiramo podatke tako da se oni mogu uklopiti u normalnu distribuciju."
   ]
  },
  {
   "cell_type": "markdown",
   "metadata": {},
   "source": [
    "### 2.1.1 Normalizacija podataka<a name=\"normalizacija\"></a>"
   ]
  },
  {
   "cell_type": "code",
   "execution_count": 298,
   "metadata": {},
   "outputs": [
    {
     "data": {
      "text/html": [
       "<div>\n",
       "<style scoped>\n",
       "    .dataframe tbody tr th:only-of-type {\n",
       "        vertical-align: middle;\n",
       "    }\n",
       "\n",
       "    .dataframe tbody tr th {\n",
       "        vertical-align: top;\n",
       "    }\n",
       "\n",
       "    .dataframe thead th {\n",
       "        text-align: right;\n",
       "    }\n",
       "</style>\n",
       "<table border=\"1\" class=\"dataframe\">\n",
       "  <thead>\n",
       "    <tr style=\"text-align: right;\">\n",
       "      <th></th>\n",
       "      <th>Score</th>\n",
       "      <th>GDP per capita</th>\n",
       "      <th>Social support</th>\n",
       "      <th>Healthy life expectancy</th>\n",
       "      <th>Freedom to make life choices</th>\n",
       "      <th>Generosity</th>\n",
       "      <th>Perceptions of corruption</th>\n",
       "    </tr>\n",
       "    <tr>\n",
       "      <th>Country or region</th>\n",
       "      <th></th>\n",
       "      <th></th>\n",
       "      <th></th>\n",
       "      <th></th>\n",
       "      <th></th>\n",
       "      <th></th>\n",
       "      <th></th>\n",
       "    </tr>\n",
       "  </thead>\n",
       "  <tbody>\n",
       "    <tr>\n",
       "      <th>Finland</th>\n",
       "      <td>1.000000</td>\n",
       "      <td>0.622615</td>\n",
       "      <td>0.968370</td>\n",
       "      <td>0.848544</td>\n",
       "      <td>0.940608</td>\n",
       "      <td>0.337793</td>\n",
       "      <td>0.859956</td>\n",
       "    </tr>\n",
       "    <tr>\n",
       "      <th>Norway</th>\n",
       "      <td>0.991961</td>\n",
       "      <td>0.694656</td>\n",
       "      <td>0.962287</td>\n",
       "      <td>0.835922</td>\n",
       "      <td>0.947514</td>\n",
       "      <td>0.478261</td>\n",
       "      <td>0.743982</td>\n",
       "    </tr>\n",
       "    <tr>\n",
       "      <th>Denmark</th>\n",
       "      <td>0.983711</td>\n",
       "      <td>0.644561</td>\n",
       "      <td>0.967153</td>\n",
       "      <td>0.842718</td>\n",
       "      <td>0.943370</td>\n",
       "      <td>0.474916</td>\n",
       "      <td>0.892779</td>\n",
       "    </tr>\n",
       "    <tr>\n",
       "      <th>Iceland</th>\n",
       "      <td>0.971018</td>\n",
       "      <td>0.640744</td>\n",
       "      <td>1.000000</td>\n",
       "      <td>0.887379</td>\n",
       "      <td>0.935083</td>\n",
       "      <td>0.590301</td>\n",
       "      <td>0.301969</td>\n",
       "    </tr>\n",
       "    <tr>\n",
       "      <th>Switzerland</th>\n",
       "      <td>0.969325</td>\n",
       "      <td>0.677481</td>\n",
       "      <td>0.942214</td>\n",
       "      <td>0.900000</td>\n",
       "      <td>0.911602</td>\n",
       "      <td>0.428094</td>\n",
       "      <td>0.781182</td>\n",
       "    </tr>\n",
       "  </tbody>\n",
       "</table>\n",
       "</div>"
      ],
      "text/plain": [
       "                      Score  GDP per capita  Social support  \\\n",
       "Country or region                                             \n",
       "Finland            1.000000        0.622615        0.968370   \n",
       "Norway             0.991961        0.694656        0.962287   \n",
       "Denmark            0.983711        0.644561        0.967153   \n",
       "Iceland            0.971018        0.640744        1.000000   \n",
       "Switzerland        0.969325        0.677481        0.942214   \n",
       "\n",
       "                   Healthy life expectancy  Freedom to make life choices  \\\n",
       "Country or region                                                          \n",
       "Finland                           0.848544                      0.940608   \n",
       "Norway                            0.835922                      0.947514   \n",
       "Denmark                           0.842718                      0.943370   \n",
       "Iceland                           0.887379                      0.935083   \n",
       "Switzerland                       0.900000                      0.911602   \n",
       "\n",
       "                   Generosity  Perceptions of corruption  \n",
       "Country or region                                         \n",
       "Finland              0.337793                   0.859956  \n",
       "Norway               0.478261                   0.743982  \n",
       "Denmark              0.474916                   0.892779  \n",
       "Iceland              0.590301                   0.301969  \n",
       "Switzerland          0.428094                   0.781182  "
      ]
     },
     "execution_count": 298,
     "metadata": {},
     "output_type": "execute_result"
    }
   ],
   "source": [
    "#normalizacija podataka iz učitane baze na [0, 1]\n",
    "from scipy import linalg\n",
    "def normaliziraj(data):\n",
    "    normalizirana_baza=((data-data.min())/(data.max()-data.min()))\n",
    "    return normalizirana_baza\n",
    "\n",
    "normalizirana_baza = normaliziraj(data)\n",
    "normalizirana_baza.head()"
   ]
  },
  {
   "cell_type": "code",
   "execution_count": 311,
   "metadata": {},
   "outputs": [
    {
     "data": {
      "text/plain": [
       "[<matplotlib.lines.Line2D at 0x7fefb3630f50>]"
      ]
     },
     "execution_count": 311,
     "metadata": {},
     "output_type": "execute_result"
    },
    {
     "data": {
      "image/png": "[encoded data removed]",
      "text/plain": [
       "<Figure size 1080x360 with 2 Axes>"
      ]
     },
     "metadata": {
      "needs_background": "light"
     },
     "output_type": "display_data"
    }
   ],
   "source": [
    "#prikaz histograma normaliziranih podataka izabranih stupaca i njihovih Gaussova krivulja\n",
    "fig, ax = plt.subplots(1, 2, sharey=True, figsize=(15,5))\n",
    "fig.suptitle('Normalizirani podaci', fontsize=16, fontweight=\"bold\")\n",
    "\n",
    "ax[0].set_title('Score')\n",
    "mu, std = norm.fit(normalizirana_baza['Score'])\n",
    "ax[0].hist(normalizirana_baza['Score'], bins=25, density=True,  color='grey')\n",
    "x = np.linspace(normalizirana_baza['Score'].min(), normalizirana_baza['Score'].max())\n",
    "p = norm.pdf(x, mu, std)\n",
    "ax[0].plot(x, p, color='black')\n",
    "\n",
    "ax[1].set_title('GDP per capita')\n",
    "mu, std = norm.fit(normalizirana_baza['GDP per capita'])\n",
    "ax[1].hist(normalizirana_baza['GDP per capita'], bins=25, density=True, color='red')\n",
    "x = np.linspace(normalizirana_baza['GDP per capita'].min(), normalizirana_baza['GDP per capita'].max())\n",
    "p = norm.pdf(x, mu, std)\n",
    "ax[1].plot(x, p, color='black')"
   ]
  },
  {
   "cell_type": "markdown",
   "metadata": {},
   "source": [
    "### 2.1.2 Skaliranje podataka <a name=\"skaliranje\"></a>"
   ]
  },
  {
   "cell_type": "markdown",
   "metadata": {},
   "source": [
    "Postoji više metoda za skaliranje podataka. Neke od njih su min-max skaliranje, standardizacija, binariziranje podataka...\n",
    "Detaljnije ćemo promotriti rezultate dobivene min-max skaliranjem. \n",
    "<br>\n",
    "Opća formula za min-max skaliranje na interval $[0, 1]$: $$x'= \\frac {x-min(x)}{max(x)-min(x)}$$ gdje je $x$ originalna vrijednost, $x'$ skalirana.  "
   ]
  },
  {
   "cell_type": "code",
   "execution_count": 207,
   "metadata": {},
   "outputs": [],
   "source": [
    "#minmax skaliranje podataka iz baze uz pomoć pythonove scikit-learn biblioteke za strojno učenje\n",
    "from sklearn.preprocessing import minmax_scale\n",
    "\n",
    "skalirana_baza = minmax_scale(data)\n",
    "skalirana_baza = pd.DataFrame(skalirana_baza, index = data.index, columns = ['Score', 'GDP per capita', 'Social support', 'Healthy life expectancy', 'Freedom to make life choices', 'Generosity', 'Perceptions of corruption'])"
   ]
  },
  {
   "cell_type": "markdown",
   "metadata": {},
   "source": [
    "Već prije je spomenuta razlika normalzacije i skaliranja podataka, a sada se u to možemo uvjeriti."
   ]
  },
  {
   "cell_type": "code",
   "execution_count": 221,
   "metadata": {},
   "outputs": [
    {
     "data": {
      "text/plain": [
       "False"
      ]
     },
     "execution_count": 221,
     "metadata": {},
     "output_type": "execute_result"
    }
   ],
   "source": [
    "#usporedba skaliranih i normaliziranih podataka prvog stupca baze\n",
    "df['Score'].equals(normalizirana_baza['Score'])"
   ]
  },
  {
   "cell_type": "markdown",
   "metadata": {},
   "source": [
    "Međutim, interval u kojeg smo ugurali podatke ne daje prostora za prevelike razlike među rezultatima. To prikazuje sljedeći histogram usporedbe podataka na kojem se razlika golim okom ne može uočiti, već samo iz mješavine boja primjećujemo nihovo preklapanje."
   ]
  },
  {
   "cell_type": "code",
   "execution_count": 308,
   "metadata": {},
   "outputs": [
    {
     "data": {
      "text/plain": [
       "[<matplotlib.lines.Line2D at 0x7fefb3988fd0>]"
      ]
     },
     "execution_count": 308,
     "metadata": {},
     "output_type": "execute_result"
    },
    {
     "data": {
      "image/png": "[encoded data removed]",
      "text/plain": [
       "<Figure size 720x360 with 1 Axes>"
      ]
     },
     "metadata": {
      "needs_background": "light"
     },
     "output_type": "display_data"
    }
   ],
   "source": [
    "fig, ax = plt.subplots(figsize=(10,5))\n",
    "fig.suptitle('Usporedba skaliranih i normaliziranih podataka', fontsize=16, fontweight=\"bold\")\n",
    "\n",
    "mu, std = norm.fit(skalirana_baza['Score'])\n",
    "ax.hist(normalizirana_baza['Score'], bins=25, density=True, alpha=0.6, color='white')\n",
    "x = np.linspace(skalirana_baza['Score'].min(), skalirana_baza['Score'].max())\n",
    "p = norm.pdf(x, mu, std)\n",
    "ax.plot(x, p, color='white')\n",
    "mu, std = norm.fit(normalizirana_baza['Score'])\n",
    "ax.hist(normalizirana_baza['Score'], bins=25, density=True, alpha=0.6, color='black')\n",
    "x = np.linspace(normalizirana_baza['Score'].min(), normalizirana_baza['Score'].max())\n",
    "p = norm.pdf(x, mu, std)\n",
    "ax.plot(x, p, color='black')"
   ]
  }
 ],
 "metadata": {
  "kernelspec": {
   "display_name": "Python 3",
   "language": "python",
   "name": "python3"
  },
  "language_info": {
   "codemirror_mode": {
    "name": "ipython",
    "version": 3
   },
   "file_extension": ".py",
   "mimetype": "text/x-python",
   "name": "python",
   "nbconvert_exporter": "python",
   "pygments_lexer": "ipython3",
   "version": "3.7.6"
  }
 },
 "nbformat": 4,
 "nbformat_minor": 2
}
